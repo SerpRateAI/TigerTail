{
 "cells": [
  {
   "cell_type": "code",
   "execution_count": null,
   "id": "6eaa73fa-316a-468d-abb0-efe73c7b9f21",
   "metadata": {},
   "outputs": [],
   "source": [
    "import TigerTail as tt"
   ]
  },
  {
   "cell_type": "markdown",
   "id": "d8097769-d3a1-49c9-b210-f45f07520a41",
   "metadata": {},
   "source": [
    "```\n",
    ">>> imports the TigerTail library\n",
    "```"
   ]
  },
  {
   "cell_type": "code",
   "execution_count": null,
   "id": "4202e9ae-68ff-457e-8fff-8f26ef054eb8",
   "metadata": {},
   "outputs": [],
   "source": [
    "t1 = tt.TimeSeries.load_csv(file_loc='t1.csv', agg_func='mean', time_col='t', value_col='z')"
   ]
  },
  {
   "cell_type": "markdown",
   "id": "0fc9dd2c-8d0f-4b98-826e-62caf263ccc1",
   "metadata": {},
   "source": [
    "```\n",
    ">>> imports t1 as a TimeSeries object\n",
    "```"
   ]
  },
  {
   "cell_type": "code",
   "execution_count": null,
   "id": "eacdebbd-320d-40fb-baf8-0644258ee6ea",
   "metadata": {},
   "outputs": [],
   "source": [
    "t2 = tt.TimeSeries.load_json(file_loc='t2.json', agg_func='stdev', time_col='time[s]', value_col='value')"
   ]
  },
  {
   "cell_type": "markdown",
   "id": "1e8a1502-d7ed-4f5d-a61d-3850275bb926",
   "metadata": {},
   "source": [
    "```\n",
    ">>> imports t2 as a TimeSeries object\n",
    "```"
   ]
  },
  {
   "cell_type": "code",
   "execution_count": null,
   "id": "2b9a73ed-eab4-4df3-bca4-e8cb4b97c130",
   "metadata": {},
   "outputs": [],
   "source": [
    "t1.window(5, 'sec')"
   ]
  },
  {
   "cell_type": "markdown",
   "id": "1de0ec20-7655-405c-b4a8-31b52682d5fa",
   "metadata": {},
   "source": [
    "```\n",
    ">>> returns pandas Series object of mean values for 5 second window intervals\n",
    "```\n",
    "| datetime | z |\n",
    "|---|---|\n",
    "| 2000-01-01 00:00:00 | 2.73 |\n",
    "| 2000-01-01 00:00:05 | 3.86 |\n",
    "| ... | ... |\n",
    "| 2000-01-01 00:10:55 | 1.72 |\n",
    "| 2000-01-01 00:11:00 | 2.96 |"
   ]
  },
  {
   "cell_type": "code",
   "execution_count": null,
   "id": "d2cbbc25-f9cc-4b64-826e-2bac48e09143",
   "metadata": {},
   "outputs": [],
   "source": [
    "t2.apply(lambda x: 0 if x < else 0 np.max(x)).window(3, 'min')"
   ]
  },
  {
   "cell_type": "markdown",
   "id": "dbdcae43-8a13-4cfc-b994-68e3e666cf32",
   "metadata": {},
   "source": [
    "```\n",
    ">>> returns t2 with the custom lambda function instead of the originally specificed mean function\n",
    "```\n",
    "| datetime | value |\n",
    "|---|---|\n",
    "| 2000-01-01 00:00:00 | 5.4 |\n",
    "| 2000-01-01 00:03:00 | 0 |\n",
    "| ... | ... |\n",
    "| 2000-01-01 00:09:00 | 0 |\n",
    "| 2000-01-01 00:12:00 | 12.5 |"
   ]
  },
  {
   "cell_type": "code",
   "execution_count": null,
   "id": "bb38590d-ace5-4ed5-97d6-b401a25bbb6c",
   "metadata": {},
   "outputs": [],
   "source": [
    "t1.plot()"
   ]
  },
  {
   "cell_type": "markdown",
   "id": "a45290da-8cc2-43bf-8fef-f0464c40f4f9",
   "metadata": {},
   "source": [
    "```\n",
    ">>> returns a plot of the raw data in t1\n",
    "```\n",
    "![img](missing.png)"
   ]
  },
  {
   "cell_type": "code",
   "execution_count": null,
   "id": "428dc6db-1cd7-40a0-8941-bb215f0d5646",
   "metadata": {},
   "outputs": [],
   "source": [
    "tdf = t1 + t2"
   ]
  },
  {
   "cell_type": "markdown",
   "id": "1b49948c-ab86-447c-8780-9074ee53e4e2",
   "metadata": {},
   "source": [
    "```\n",
    ">>> creates a TigerTail dataframe object that contains t1 and t2\n",
    "```"
   ]
  },
  {
   "cell_type": "code",
   "execution_count": null,
   "id": "dc4a5925-8e11-4180-90db-f5a8c098bc91",
   "metadata": {},
   "outputs": [],
   "source": [
    "tdf.window(5, 'min')"
   ]
  },
  {
   "cell_type": "markdown",
   "id": "f88897d7-5516-40a3-ae62-ada2093fe973",
   "metadata": {},
   "source": [
    "```\n",
    ">>> returns a pandas dataframe with 5 minute window intervals using the default aggregation used in the original import\n",
    "```\n",
    "| datetime | z | value |\n",
    "|---|---|---|\n",
    "| 2000-01-01 00:00:00 | 2.73 | 4.4 |\n",
    "| 2000-01-01 00:00:05 | 3.86 | -2.3 |\n",
    "| ... | ... |...|\n",
    "| 2000-01-01 00:10:55 | 1.72 | -7.4 |\n",
    "| 2000-01-01 00:11:00 | 2.96 | 9.2 |"
   ]
  },
  {
   "cell_type": "code",
   "execution_count": null,
   "id": "fd6fb9b2-86a6-4458-9c66-ffbb6ddb1e2c",
   "metadata": {},
   "outputs": [],
   "source": [
    "tdf2 = t1.apply('stdev') + t2"
   ]
  },
  {
   "cell_type": "markdown",
   "id": "f26210dd-66e5-4ed3-90a3-289d8f1a1ea4",
   "metadata": {},
   "source": [
    "```\n",
    ">>> creates a TigerTail dataframe object that contains t1 with the new stdev aggregate value and t2 with the original t2 aggregate function\n",
    "```"
   ]
  },
  {
   "cell_type": "code",
   "execution_count": null,
   "id": "0025b449-d3f3-49e4-a8ca-b5418878adf6",
   "metadata": {},
   "outputs": [],
   "source": [
    "tdf2.window(1, 'hour').plot()"
   ]
  },
  {
   "cell_type": "markdown",
   "id": "84884d98-896e-4b04-8558-dd5a0d9b90a7",
   "metadata": {},
   "source": [
    "```\n",
    ">>> returns a matplotlib axes object plotting both tdf2 for 1 hour window intervals\n",
    "```\n",
    "![missing.png](missing.png)"
   ]
  },
  {
   "cell_type": "code",
   "execution_count": null,
   "id": "1012aa5f-5462-4515-b455-967f7ac6ae12",
   "metadata": {},
   "outputs": [],
   "source": [
    "import matplotlib.pyplot as plt\n",
    "\n",
    "fig, ax = plt.subplots(2, 1)\n",
    "\n",
    "tdf.window(1, 'min').plot(ax=ax[0])\n",
    "tdf2.window(1, 'min').plot(ax=ax[1])"
   ]
  },
  {
   "cell_type": "markdown",
   "id": "351fc26e-b9ae-46dd-a97f-0999abd47590",
   "metadata": {},
   "source": [
    "```\n",
    ">>> assigns the plot to the matplotlib axes instead of building a figure and axes object for itself\n",
    "```\n"
   ]
  },
  {
   "cell_type": "code",
   "execution_count": null,
   "id": "72f84de6-3839-4a79-afd4-acbb5c861be3",
   "metadata": {},
   "outputs": [],
   "source": [
    "e1 = tt.EventSeries.load_csv(file_loc='e1.csv', agg_func='count', time_col='t', value_col='carcrash')"
   ]
  },
  {
   "cell_type": "markdown",
   "id": "7a0e8e55-3a01-470b-86db-faf780230482",
   "metadata": {},
   "source": [
    "```\n",
    ">>> imports e1 as an EventSeries object\n",
    "```"
   ]
  },
  {
   "cell_type": "code",
   "execution_count": null,
   "id": "37e559db-0bce-42ed-9d60-e6c040de09d1",
   "metadata": {},
   "outputs": [],
   "source": [
    "tdf3 = t1 + t2 + e1"
   ]
  },
  {
   "cell_type": "markdown",
   "id": "ebeb58df-250a-4c22-95b8-5aaff23b2093",
   "metadata": {},
   "source": [
    "```\n",
    ">>> creates a TigerTail dataframe of the TimeSeries objects t1 and t2 and the EventSeries object e1\n",
    "```"
   ]
  },
  {
   "cell_type": "code",
   "execution_count": null,
   "id": "0d20642f-c067-4cf3-ad9d-ddba9b211076",
   "metadata": {},
   "outputs": [],
   "source": [
    "tdf3.window(3, 'min').plot()"
   ]
  },
  {
   "cell_type": "markdown",
   "id": "25b7d835-2ea3-4abe-900d-948b0ac1b47b",
   "metadata": {},
   "source": [
    "```\n",
    ">>> returns a single matplotlib axes object with the traces for t1, t2, and e1\n",
    "```\n",
    "![missing.png](missing.png)"
   ]
  }
 ],
 "metadata": {
  "kernelspec": {
   "display_name": "Python 3 (ipykernel)",
   "language": "python",
   "name": "python3"
  },
  "language_info": {
   "codemirror_mode": {
    "name": "ipython",
    "version": 3
   },
   "file_extension": ".py",
   "mimetype": "text/x-python",
   "name": "python",
   "nbconvert_exporter": "python",
   "pygments_lexer": "ipython3",
   "version": "3.11.10"
  }
 },
 "nbformat": 4,
 "nbformat_minor": 5
}
